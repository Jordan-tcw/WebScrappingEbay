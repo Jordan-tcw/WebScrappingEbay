{
  "nbformat": 4,
  "nbformat_minor": 5,
  "metadata": {
    "kernelspec": {
      "display_name": "Python 3",
      "language": "python",
      "name": "python3"
    },
    "language_info": {
      "codemirror_mode": {
        "name": "ipython",
        "version": 3
      },
      "file_extension": ".py",
      "mimetype": "text/x-python",
      "name": "python",
      "nbconvert_exporter": "python",
      "pygments_lexer": "ipython3",
      "version": "3.8.8"
    },
    "colab": {
      "name": "17. WebScrappingEBAY.ipynb",
      "provenance": [],
      "collapsed_sections": []
    }
  },
  "cells": [
    {
      "cell_type": "markdown",
      "metadata": {
        "id": "d70ecca8-e008-4ff6-850c-0dd05d0b4ee1"
      },
      "source": [
        "# Crawl A Web Page"
      ],
      "id": "d70ecca8-e008-4ff6-850c-0dd05d0b4ee1"
    },
    {
      "cell_type": "markdown",
      "metadata": {
        "id": "5f647175-4966-45e7-ad49-4e26055bbef4"
      },
      "source": [
        "**Web scraping**, often called web crawling or web spidering, or “programmatically going over a collection of web pages and extracting data,” is a powerful tool for working with data on the web.\n",
        "\n",
        "With a web crawler, you can mine data about a set of products, get a large corpus of text or quantitative data to play around with, get data from a site without an official API, or just satisfy your own personal curiosity.\n",
        "\n",
        "In this tutorial, you’ll learn about the fundamentals of the scraping and spidering process as you explore a playful data set. We’ll use **EBAY**, a community-run site that contains information about Products sets. By the end of this tutorial, you’ll have a fully functional Python web crawler that collects a products information on **Ebay**.\n",
        "\n",
        "This is a stepping stone for WebScrawling"
      ],
      "id": "5f647175-4966-45e7-ad49-4e26055bbef4"
    },
    {
      "cell_type": "markdown",
      "metadata": {
        "id": "6ef34cea-23ec-44b9-934e-455d74a8628c"
      },
      "source": [
        "## Step 1 — Creating a Basic Review\n",
        "Scraping is a two step process:<br>\n",
        "1. You systematically find and download web pages.<br>\n",
        "2. You take those web pages and extract information from them.<br>"
      ],
      "id": "6ef34cea-23ec-44b9-934e-455d74a8628c"
    },
    {
      "cell_type": "code",
      "metadata": {
        "id": "e5547cab-481b-4410-a632-75ad4f930522"
      },
      "source": [
        "# Let’s create a new folder \"brickset-crawler\" for our project. You can do this in the terminal by running:\n",
        "\n",
        "!mkdir Ebay-crawler"
      ],
      "id": "e5547cab-481b-4410-a632-75ad4f930522",
      "execution_count": 1,
      "outputs": []
    },
    {
      "cell_type": "markdown",
      "metadata": {
        "id": "a39fcf8c-41da-4c6d-bab6-8a1c04252628"
      },
      "source": [
        "Let's start from https://www.ebay.ie/b/Computers-Tablets-Network-Hardware/58058/bn_1838792?_catref=1 <br>"
      ],
      "id": "a39fcf8c-41da-4c6d-bab6-8a1c04252628"
    },
    {
      "cell_type": "markdown",
      "metadata": {
        "id": "8f0b132f-aaa2-4ff0-985b-2a1ad97f5f65"
      },
      "source": [
        "## Step 2: Crawling all links for  product items (on ONE category page)"
      ],
      "id": "8f0b132f-aaa2-4ff0-985b-2a1ad97f5f65"
    },
    {
      "cell_type": "markdown",
      "metadata": {
        "id": "4c8a395a-a1be-46ae-869e-f5af61cb05d0"
      },
      "source": [
        "Let's take one page for extracting content: https://www.ebay.ie/b/Computers-Tablets-Network-Hardware/58058/bn_1838792?_catref=1 <br>\n",
        "Download the HTML source code of the category page"
      ],
      "id": "4c8a395a-a1be-46ae-869e-f5af61cb05d0"
    },
    {
      "cell_type": "code",
      "metadata": {
        "id": "f4b40571-ae2e-47cd-b91e-5adde1ba3d01"
      },
      "source": [
        "url = 'https://www.ebay.ie/b/Computers-Tablets-Network-Hardware/58058/bn_1838792?_catref=1'\n",
        "import urllib.request\n",
        "\n",
        "# Write you code here to download content of HTML page\n",
        "response = urllib.request.urlopen(url)\n",
        "raw_html = response.read().decode(\"utf-8\")\n",
        "\n",
        "\n",
        "# Write you code here to parse HTML page\n",
        "from bs4 import BeautifulSoup\n",
        "soup = BeautifulSoup(raw_html, 'html.parser')\n"
      ],
      "id": "f4b40571-ae2e-47cd-b91e-5adde1ba3d01",
      "execution_count": 2,
      "outputs": []
    },
    {
      "cell_type": "markdown",
      "metadata": {
        "id": "6db94d08-1d2d-43de-accf-6c45b338db5d"
      },
      "source": [
        "Identify the product box for each brick item on category. Print out the title and link of detail page. <br>\n",
        "Save them into list **lst_productlinks**"
      ],
      "id": "6db94d08-1d2d-43de-accf-6c45b338db5d"
    },
    {
      "cell_type": "code",
      "metadata": {
        "id": "eb2ec924-9265-466d-9947-90591717d0b1",
        "colab": {
          "base_uri": "https://localhost:8080/"
        },
        "outputId": "58a48ea1-6570-490b-bb53-2618335e37ac"
      },
      "source": [
        "lst_productlinks = []\n",
        "\n",
        "# Write you code here to extract title, link. <Customize your config here to find DOM nodes of product items>\n",
        "#div1 = soup.find(\"div\", {\"id\":\"mainContent\"}) b-list__items_nofooter srp-results srp-grid\n",
        "#for divbox in soup.find_all(\"section\", {\"class\":\"b-module b-carousel b-guidance b-display--landscape\"}):\n",
        "for divbox in soup.find_all(\"ul\", {\"class\":\"b-list__items_nofooter srp-results srp-grid\"}):\n",
        "    for libox in divbox.find_all(\"li\"):\n",
        "      title = libox.get_text().strip()\n",
        "      try:\n",
        "        href =  libox.find(\"a\").get(\"href\")\n",
        "        print(title, \" => \", href)\n",
        "        lst_productlinks.append([title, href])\n",
        "      except:\n",
        "        pass"
      ],
      "id": "eb2ec924-9265-466d-9947-90591717d0b1",
      "execution_count": 3,
      "outputs": [
        {
          "output_type": "stream",
          "name": "stdout",
          "text": [
            "ESET NOD32 Antivirus 1 Device 1 Year ESD KeyEUR 3.84Free postage616 sold  =>  https://www.ebay.ie/itm/185161216095?hash=item2b1c77f05f:g:3agAAOSwmhFfmWb3\n",
            "ESET Internet Security 3 Device 1 Year DIGITAL Key DeliveryEUR 6.14Free postage19,073 sold  =>  https://www.ebay.ie/itm/184509310431?hash=item2af59ca5df:g:BUwAAOSwkKhgYVWT\n",
            "Bluetooth 5.0 USB Dongle CSR 300Mbps Win 10 7 Vista Adapter PC Laptop ComputerEUR 5.95(EUR 5.95/Unit)Free postageor Best Offer718 sold  =>  https://www.ebay.ie/itm/233777759916?hash=item366e3d86ac:g:Wo4AAOSwPZhfrEpU\n",
            "Samsung Galaxy Tab A7 8.7\" Lite 2021 T220/T225 PU Leather Flip Smart Case CoverEUR 5.99 to EUR 6.99EUR 4.99 postage  =>  https://www.ebay.ie/itm/174969814832?hash=item28bd037f30:g:GEoAAOSwVb5fy6uZ&var=474116985269\n",
            "Wireless Bluetooth 4.1 Receiver Transmitter Adapter For Car Music Aux 3.5mm JackEUR 6.49(EUR 6.49/Unit)Free postage609 sold  =>  https://www.ebay.ie/itm/233623956251?hash=item366512ab1b:g:MKEAAOSwe~Ze7Min\n",
            "ESET Internet Security 5 Device License 1 Year - Digital Key Send Within 24 HourEUR 7.30Free postageor Best Offer997 sold  =>  https://www.ebay.ie/itm/274940889781?hash=item4003c10ab5:g:1J4AAOSwzm5hOrQm\n",
            "Norton 360 Premium Antivirus 2021/2022 10 Devices, 1 Year, 10 - Email DeliveryEUR 23.46Free postage  =>  https://www.ebay.ie/itm/294525102984?hash=item4493106b88:g:JugAAOSw91Jc8Va~\n",
            "ESET Internet Security 3 Device 1 Year - Digital Key Send Within 24 HoursEUR 6.31Free postage2,135 sold  =>  https://www.ebay.ie/itm/265305571084?hash=item3dc571bf0c:g:6AwAAOSw6A5hOa4g\n",
            "USB 2.0 EXTENSION Cable Lead A Male Plug to A Female. 045EUR 3.95 to EUR 5.45Free postage64 sold  =>  https://www.ebay.ie/itm/293974787062?hash=item44724343f6:g:1n8AAOSwS0tgD~Fs&var=592679333125\n",
            "4 Port USB Splitter Hub Expansion High Speed Adapter For Laptop Pc. 078EUR 4.95(EUR 4.95/Unit)Free postageOnly 2 left  =>  https://www.ebay.ie/itm/292039191617?hash=item43fee46c41:g:KOEAAOSwaJFeq3b7\n",
            "For iPad 5 / iPad 6 Tempered Glass iPad 5 6 Screen Protector Clear Glass NewEUR 5.97EUR 2.50 postage  =>  https://www.ebay.ie/itm/183237369879?hash=item2aa9cc6017:g:eI8AAOSwBwJhTeq4\n",
            "Norton 360 Premium Antivirus 2021/2022- 10 Devices- 1 YR + VPN- 5 Min by Email EUR 23.47Free postage1,551 sold  =>  https://www.ebay.ie/itm/293635081456?hash=item445e03c4f0:g:9O8AAOSw1adeMbwZ\n",
            "New VGA Monitor Cable 1.5m 15 PIN Male to Male PC Laptop D-SUB DB15 Full HD #925EUR 3.99EUR 1.95 postage  =>  https://www.ebay.ie/itm/124718252752?hash=item1d09c982d0:g:5TMAAOSwqKRgmVQ8\n",
            "BITDEFENDER 2021 2022 TOTAL SECURITY 3, 5, 10 DEVICES 1YR 2YR 3YR PC MAC EU UKEUR 24.68 to EUR 68.31Free postage  =>  https://www.ebay.ie/itm/384514421072?hash=item5986d87150:g:0UUAAOSwHfVhmr5C&var=652607914898\n",
            "USB Flash Drive 3.0 2.0 64GB 32GB 16GB 8GB Memory Stick Wooden Swivel Pen DriveEUR 4.90 to EUR 9.09(EUR 5.91/Unit)EUR 1.00 postage  =>  https://www.ebay.ie/itm/393743905107?hash=item5bacf73153:g:cRMAAOSwQJVhpJtm&var=662427893950\n",
            "USB 2.0 To SATA 7+15 Pin 22 Pin Adapter Cable for 2.5\" inch Hard Disk Drive HDD EUR 4.95(EUR 4.95/Unit)EUR 1.99 postageor Best Offer97 sold  =>  https://www.ebay.ie/itm/254276577512?hash=item3b3410a8e8:g:GeIAAOSwCtVdE1YD\n",
            "BITDEFENDER 2021 2022 INTERNET SECURITY 1PC, 3PC, 5PC FOR 1 YR 2YR 3YR PC EU UKEUR 15.05 to EUR 45.14Free postage  =>  https://www.ebay.ie/itm/384514320126?hash=item5986d6e6fe:g:JZ8AAOSwOAZhmrWZ&var=652607974345\n",
            "3 Metre Extension Cable Male to Female High Speed USB 2.0EUR 4.90Free postage151 sold  =>  https://www.ebay.ie/itm/203277912277?hash=item2f544ec8d5:g:Kl4AAOSwdLpfkt-I\n",
            "KASPERSKY INTERNET SECURITY 2021 FOR ANDROID - 1 DEVICE MOBILE TABLET - DownloadEUR 5.40Free postage837 sold  =>  https://www.ebay.ie/itm/254559502201?hash=item3b44edbf79:g:2Q4AAOSw01Veh2fT\n",
            "USB to RS232 Serial Port 9 Pin DB9 COM Adapter Convertor Cable. 0176EUR 4.95(EUR 4.95/Unit)Free postage828 sold  =>  https://www.ebay.ie/itm/292136305185?hash=item4404ae4221:g:lcMAAOSwIJFb26gZ\n",
            "FLAT CAT8 Shielded 2000MHz 40Gbps Ethernet LAN Ultra HighSpeed Cable RJ45 LotEUR 4.72 to EUR 17.65(EUR 16.92/Unit)EUR 2.71 postage524 sold  =>  https://www.ebay.ie/itm/193756060272?hash=item2d1cc2da70:g:b2wAAOSwlI9hmRIW&var=493982774352\n",
            "Norton 360 Antivirus 2021/2022, 1 Device,3 Devices,5 devices,10 Devices-EmailedEUR 9.62 to EUR 24.06Free postage  =>  https://www.ebay.ie/itm/294525102997?hash=item4493106b95:g:UToAAOSwfVhgmReJ&var=593061715976\n",
            "Brand New Kaspersky Antivirus KAV 2021 2022 3 PC 1 Yr AntiVirus Emailed EU UKEUR 15.59Free postage127 sold  =>  https://www.ebay.ie/itm/254165110153?hash=item3b2d6bcd89:g:MVMAAOSwpZNcjCiZ\n",
            "Cat6 Ethernet Network Cable LAN Patch Lead RJ45 0.25m 0.5m 1m 2m 3m 5m 10mEUR 2.80 to EUR 5.60EUR 4.29 postage  =>  https://www.ebay.ie/itm/123858845254?hash=item1cd68ffe46:g:M7wAAOSwvM5gFZFj&var=424581025836\n",
            "KASPERSKY SECURITY CLOUD FAMILY 2021 - 20 PC DEVICES - MULTI DEVICE - DownloadEUR 30.08Free postage245 sold  =>  https://www.ebay.ie/itm/254574650337?hash=item3b45d4e3e1:g:E6cAAOSw3dRenZsp\n",
            "USB 4 Thunderbolt 3 CERTIFIED Type C Cable 40Gbps Video/Data ABS Ends 0.8mEUR 16.41(EUR 16.41/Unit)EUR 0.71 postage  =>  https://www.ebay.ie/itm/265389602893?hash=item3dca73f84d:g:O4kAAOSwP~phmT4l\n",
            "Keyboard Keys for Lenovo Yoga 520 Laptops UK Layout Backlit [REF: A130]EUR 3.60 to EUR 4.32EUR 3.74 postage  =>  https://www.ebay.ie/itm/233869192490?hash=item3673b0ad2a:g:EGMAAOSwhkxgC0H5&var=533526449707\n",
            "McAfee Internet Security Antivirus 2021/2022, 1 Device, 1 YR - 5 Min by Email EUR 6.01Free postage7,724 sold  =>  https://www.ebay.ie/itm/293627877487?hash=item445d95d86f:g:oWoAAOSwbqFgwd7-\n",
            "High Speed 2TB FREE POST USB 3.0 Flash drive Storage Pen Stick Disk Memory EUR 15.00Free postage  =>  https://www.ebay.ie/itm/334199328414?hash=item4dcfd50e9e:g:wvoAAOSwh3Bg8Zn~\n",
            "wholesale/lot/bulk 5pcs usb flash drive memory stick thumb jump pen u disk foldEUR 5.78 to EUR 15.89Free postage  =>  https://www.ebay.ie/itm/224026191164?hash=item342900653c:g:u7wAAOSwgrxez3Aq&var=522788676151\n",
            "Genuine HP 920XL Black Cyan Magenta Yellow Ink for OfficeJet 6000 6500 7500A UKEUR 41.09EUR 11.52 postage59 sold  =>  https://www.ebay.ie/itm/142560756289?hash=item2131488241:g:v-wAAOSwI3RW-qRR\n",
            "5m Micro D HDMI v1.4 High Speed Cable to HDMI for Phones & Cameras [006981]EUR 5.85EUR 0.95 postage  =>  https://www.ebay.ie/itm/265170354784?hash=item3dbd628260:g:HvkAAOSwAMdhmFCr\n",
            "100m Outdoor CAT6 UTP Ethernet Cable RollEUR 40.00(EUR 0.40/m)Free postage218 sold  =>  https://www.ebay.ie/itm/172038186399?hash=item280e46659f:g:5k4AAOSwo5Bg9~3g\n",
            "USB 3.1 USB-C Type C Male to USB A 3.0 Female Converter Adapter for Mac. 0123EUR 4.75Free postage556 sold  =>  https://www.ebay.ie/itm/292500263062?hash=item441a5fd096:g:VNUAAOSwIAxfe2zN\n",
            "GOLD USB 2.0 24AWG EXTENSION Cable A Plug to Socket Lead 50cm/1m/2m/3m/5mEUR 1.79 to EUR 4.18(EUR 3.11/Unit)EUR 0.71 postage7,086 sold  =>  https://www.ebay.ie/itm/192800929629?hash=item2ce3d4b75d:g:i8UAAOSwOTZhmPMN&var=492942054484\n",
            "Kaspersky Total Security 1 Device 1 Years - Multi Device 2021 For PC & MacEUR 18.00Free postageOnly 2 left  =>  https://www.ebay.ie/itm/403279235935?hash=item5de550cb5f:g:K78AAOSwj2lhiEZN\n",
            "4K Display Port DP Male To HDMI Female Adapter Converter Adaptor For HDTVEUR 4.19Free postage251 sold  =>  https://www.ebay.ie/itm/124335183743?hash=item1cf2f4577f:g:VrsAAOSwZdJhFjTK\n",
            "Kaspersky Internet Security 2021 1 Device 1 Year PC Mac Android Email Key EU UKEUR 12.94Free postage  =>  https://www.ebay.ie/itm/383744813220?hash=item5958f928a4:g:LvkAAOSwGlJdTE5T\n",
            "Network Cable RJ45 Cat5e Ethernet Shielded METAL Plug 0.5m/1m/2m/3m to 20m lotEUR 1.79 to EUR 8.47(EUR 3.29/Unit)EUR 0.95 postage52 sold  =>  https://www.ebay.ie/itm/383978034196?hash=item5966dfd414:g:bLUAAOSwm6dhmR8n&var=652279954659\n",
            "Case For Apple iPad Tablet Shockproof Folio Flip Slim Leather Smart Cover StandEUR 7.48 to EUR 10.80Free postage  =>  https://www.ebay.ie/itm/313733759228?hash=item490bfd40fc:g:SkoAAOSwrR9hf4RS&var=612512239724\n",
            "2in1 RJ45 Ethernet LAN Network Y-Splitter 2 Way Adapter 3Ports Coupler ConnectorEUR 3.99(EUR 3.99/Unit)Free postage150 sold  =>  https://www.ebay.ie/itm/124454542285?hash=item1cfa119bcd:g:VS4AAOSwCyZfvB0D\n",
            "USB To SATA 7+15 Pin 22 Pin Adapter Cable 2.5\" inch HDD Hard Disk Drive. 09EUR 5.70(EUR 5.70/Unit)Free postage880 sold  =>  https://www.ebay.ie/itm/291855621881?hash=item43f3f35ef9:g:bu8AAOSwhaBawi-t\n",
            "Smart Memory Card Reader USB Multi Card Adapter SD SDHC MMC TF MicroSD. 084EUR 4.95Free postage519 sold  =>  https://www.ebay.ie/itm/292538322114?hash=item441ca48cc2:g:bF0AAOSw8NNehk0N\n",
            "McAfee Internet Security Antivirus 2021/2022, 3 Devices, 1 YR- 5 Min by EmailEUR 7.81Free postage4,940 sold  =>  https://www.ebay.ie/itm/293789558554?hash=item446738e71a:g:V-EAAOSwtH9gweg4\n",
            "3x RJ45 Ethernet Network LAN Cat5e Cat6 Cable Joiner Adapter Coupler ExtenderEUR 3.49(EUR 1.16/Unit)Free postage107 sold  =>  https://www.ebay.ie/itm/124454550867?hash=item1cfa11bd53:g:1z0AAOSwEwdfvB7S\n",
            "Black 6FT 1.8M Displayport DP Male To DVI-D Male Adapter Cable Core LeadEUR 8.59Free postage405 sold  =>  https://www.ebay.ie/itm/192124490157?hash=item2cbb8311ad:g:0oIAAOSwol5YwGz5\n",
            "Battery A1405 for Apple MacBook Air 13\" A1369 A1466 Mid-2011 year 020-6955-01 EUR 55.99Free postage80 sold  =>  https://www.ebay.ie/itm/132906748772?hash=item1ef1dc0b64:g:-8QAAOSwO6NcLT9P\n",
            "Norton Antivirus 360 Standard 1, Deluxe 3, 5 Premium 10 Devices - 5 Min by EmailEUR 9.62 to EUR 24.06(EUR 15.03/Unit)Free postage102 sold  =>  https://www.ebay.ie/itm/294054631647?hash=item44770598df:g:sUUAAOSwnNFgmRRo&var=592790396368\n"
          ]
        }
      ]
    },
    {
      "cell_type": "code",
      "metadata": {
        "id": "c694a08f-b6a9-468e-9037-68af5d438c0f",
        "colab": {
          "base_uri": "https://localhost:8080/"
        },
        "outputId": "052bd517-063a-4441-cdd6-367a3e3af2d0"
      },
      "source": [
        "# Print result\n",
        "print(\"{:,} links\".format(len(lst_productlinks)))\n",
        "for item in lst_productlinks:\n",
        "    print(item)"
      ],
      "id": "c694a08f-b6a9-468e-9037-68af5d438c0f",
      "execution_count": 4,
      "outputs": [
        {
          "output_type": "stream",
          "name": "stdout",
          "text": [
            "48 links\n",
            "['ESET NOD32 Antivirus 1 Device 1 Year ESD KeyEUR 3.84Free postage616 sold', 'https://www.ebay.ie/itm/185161216095?hash=item2b1c77f05f:g:3agAAOSwmhFfmWb3']\n",
            "['ESET Internet Security 3 Device 1 Year DIGITAL Key DeliveryEUR 6.14Free postage19,073 sold', 'https://www.ebay.ie/itm/184509310431?hash=item2af59ca5df:g:BUwAAOSwkKhgYVWT']\n",
            "['Bluetooth 5.0 USB Dongle CSR 300Mbps Win 10 7 Vista Adapter PC Laptop ComputerEUR 5.95(EUR 5.95/Unit)Free postageor Best Offer718 sold', 'https://www.ebay.ie/itm/233777759916?hash=item366e3d86ac:g:Wo4AAOSwPZhfrEpU']\n",
            "['Samsung Galaxy Tab A7 8.7\" Lite 2021 T220/T225 PU Leather Flip Smart Case CoverEUR 5.99 to EUR 6.99EUR 4.99 postage', 'https://www.ebay.ie/itm/174969814832?hash=item28bd037f30:g:GEoAAOSwVb5fy6uZ&var=474116985269']\n",
            "['Wireless Bluetooth 4.1 Receiver Transmitter Adapter For Car Music Aux 3.5mm JackEUR 6.49(EUR 6.49/Unit)Free postage609 sold', 'https://www.ebay.ie/itm/233623956251?hash=item366512ab1b:g:MKEAAOSwe~Ze7Min']\n",
            "['ESET Internet Security 5 Device License 1 Year - Digital Key Send Within 24 HourEUR 7.30Free postageor Best Offer997 sold', 'https://www.ebay.ie/itm/274940889781?hash=item4003c10ab5:g:1J4AAOSwzm5hOrQm']\n",
            "['Norton 360 Premium Antivirus 2021/2022 10 Devices, 1 Year, 10 - Email DeliveryEUR 23.46Free postage', 'https://www.ebay.ie/itm/294525102984?hash=item4493106b88:g:JugAAOSw91Jc8Va~']\n",
            "['ESET Internet Security 3 Device 1 Year - Digital Key Send Within 24 HoursEUR 6.31Free postage2,135 sold', 'https://www.ebay.ie/itm/265305571084?hash=item3dc571bf0c:g:6AwAAOSw6A5hOa4g']\n",
            "['USB 2.0 EXTENSION Cable Lead A Male Plug to A Female. 045EUR 3.95 to EUR 5.45Free postage64 sold', 'https://www.ebay.ie/itm/293974787062?hash=item44724343f6:g:1n8AAOSwS0tgD~Fs&var=592679333125']\n",
            "['4 Port USB Splitter Hub Expansion High Speed Adapter For Laptop Pc. 078EUR 4.95(EUR 4.95/Unit)Free postageOnly 2 left', 'https://www.ebay.ie/itm/292039191617?hash=item43fee46c41:g:KOEAAOSwaJFeq3b7']\n",
            "['For iPad 5 / iPad 6 Tempered Glass iPad 5 6 Screen Protector Clear Glass NewEUR 5.97EUR 2.50 postage', 'https://www.ebay.ie/itm/183237369879?hash=item2aa9cc6017:g:eI8AAOSwBwJhTeq4']\n",
            "['Norton 360 Premium Antivirus 2021/2022- 10 Devices- 1 YR + VPN- 5 Min by Email EUR 23.47Free postage1,551 sold', 'https://www.ebay.ie/itm/293635081456?hash=item445e03c4f0:g:9O8AAOSw1adeMbwZ']\n",
            "['New VGA Monitor Cable 1.5m 15 PIN Male to Male PC Laptop D-SUB DB15 Full HD #925EUR 3.99EUR 1.95 postage', 'https://www.ebay.ie/itm/124718252752?hash=item1d09c982d0:g:5TMAAOSwqKRgmVQ8']\n",
            "['BITDEFENDER 2021 2022 TOTAL SECURITY 3, 5, 10 DEVICES 1YR 2YR 3YR PC MAC EU UKEUR 24.68 to EUR 68.31Free postage', 'https://www.ebay.ie/itm/384514421072?hash=item5986d87150:g:0UUAAOSwHfVhmr5C&var=652607914898']\n",
            "['USB Flash Drive 3.0 2.0 64GB 32GB 16GB 8GB Memory Stick Wooden Swivel Pen DriveEUR 4.90 to EUR 9.09(EUR 5.91/Unit)EUR 1.00 postage', 'https://www.ebay.ie/itm/393743905107?hash=item5bacf73153:g:cRMAAOSwQJVhpJtm&var=662427893950']\n",
            "['USB 2.0 To SATA 7+15 Pin 22 Pin Adapter Cable for 2.5\" inch Hard Disk Drive HDD EUR 4.95(EUR 4.95/Unit)EUR 1.99 postageor Best Offer97 sold', 'https://www.ebay.ie/itm/254276577512?hash=item3b3410a8e8:g:GeIAAOSwCtVdE1YD']\n",
            "['BITDEFENDER 2021 2022 INTERNET SECURITY 1PC, 3PC, 5PC FOR 1 YR 2YR 3YR PC EU UKEUR 15.05 to EUR 45.14Free postage', 'https://www.ebay.ie/itm/384514320126?hash=item5986d6e6fe:g:JZ8AAOSwOAZhmrWZ&var=652607974345']\n",
            "['3 Metre Extension Cable Male to Female High Speed USB 2.0EUR 4.90Free postage151 sold', 'https://www.ebay.ie/itm/203277912277?hash=item2f544ec8d5:g:Kl4AAOSwdLpfkt-I']\n",
            "['KASPERSKY INTERNET SECURITY 2021 FOR ANDROID - 1 DEVICE MOBILE TABLET - DownloadEUR 5.40Free postage837 sold', 'https://www.ebay.ie/itm/254559502201?hash=item3b44edbf79:g:2Q4AAOSw01Veh2fT']\n",
            "['USB to RS232 Serial Port 9 Pin DB9 COM Adapter Convertor Cable. 0176EUR 4.95(EUR 4.95/Unit)Free postage828 sold', 'https://www.ebay.ie/itm/292136305185?hash=item4404ae4221:g:lcMAAOSwIJFb26gZ']\n",
            "['FLAT CAT8 Shielded 2000MHz 40Gbps Ethernet LAN Ultra HighSpeed Cable RJ45 LotEUR 4.72 to EUR 17.65(EUR 16.92/Unit)EUR 2.71 postage524 sold', 'https://www.ebay.ie/itm/193756060272?hash=item2d1cc2da70:g:b2wAAOSwlI9hmRIW&var=493982774352']\n",
            "['Norton 360 Antivirus 2021/2022, 1 Device,3 Devices,5 devices,10 Devices-EmailedEUR 9.62 to EUR 24.06Free postage', 'https://www.ebay.ie/itm/294525102997?hash=item4493106b95:g:UToAAOSwfVhgmReJ&var=593061715976']\n",
            "['Brand New Kaspersky Antivirus KAV 2021 2022 3 PC 1 Yr AntiVirus Emailed EU UKEUR 15.59Free postage127 sold', 'https://www.ebay.ie/itm/254165110153?hash=item3b2d6bcd89:g:MVMAAOSwpZNcjCiZ']\n",
            "['Cat6 Ethernet Network Cable LAN Patch Lead RJ45 0.25m 0.5m 1m 2m 3m 5m 10mEUR 2.80 to EUR 5.60EUR 4.29 postage', 'https://www.ebay.ie/itm/123858845254?hash=item1cd68ffe46:g:M7wAAOSwvM5gFZFj&var=424581025836']\n",
            "['KASPERSKY SECURITY CLOUD FAMILY 2021 - 20 PC DEVICES - MULTI DEVICE - DownloadEUR 30.08Free postage245 sold', 'https://www.ebay.ie/itm/254574650337?hash=item3b45d4e3e1:g:E6cAAOSw3dRenZsp']\n",
            "['USB 4 Thunderbolt 3 CERTIFIED Type C Cable 40Gbps Video/Data ABS Ends 0.8mEUR 16.41(EUR 16.41/Unit)EUR 0.71 postage', 'https://www.ebay.ie/itm/265389602893?hash=item3dca73f84d:g:O4kAAOSwP~phmT4l']\n",
            "['Keyboard Keys for Lenovo Yoga 520 Laptops UK Layout Backlit [REF: A130]EUR 3.60 to EUR 4.32EUR 3.74 postage', 'https://www.ebay.ie/itm/233869192490?hash=item3673b0ad2a:g:EGMAAOSwhkxgC0H5&var=533526449707']\n",
            "['McAfee Internet Security Antivirus 2021/2022, 1 Device, 1 YR - 5 Min by Email EUR 6.01Free postage7,724 sold', 'https://www.ebay.ie/itm/293627877487?hash=item445d95d86f:g:oWoAAOSwbqFgwd7-']\n",
            "['High Speed 2TB FREE POST USB 3.0 Flash drive Storage Pen Stick Disk Memory EUR 15.00Free postage', 'https://www.ebay.ie/itm/334199328414?hash=item4dcfd50e9e:g:wvoAAOSwh3Bg8Zn~']\n",
            "['wholesale/lot/bulk 5pcs usb flash drive memory stick thumb jump pen u disk foldEUR 5.78 to EUR 15.89Free postage', 'https://www.ebay.ie/itm/224026191164?hash=item342900653c:g:u7wAAOSwgrxez3Aq&var=522788676151']\n",
            "['Genuine HP 920XL Black Cyan Magenta Yellow Ink for OfficeJet 6000 6500 7500A UKEUR 41.09EUR 11.52 postage59 sold', 'https://www.ebay.ie/itm/142560756289?hash=item2131488241:g:v-wAAOSwI3RW-qRR']\n",
            "['5m Micro D HDMI v1.4 High Speed Cable to HDMI for Phones & Cameras [006981]EUR 5.85EUR 0.95 postage', 'https://www.ebay.ie/itm/265170354784?hash=item3dbd628260:g:HvkAAOSwAMdhmFCr']\n",
            "['100m Outdoor CAT6 UTP Ethernet Cable RollEUR 40.00(EUR 0.40/m)Free postage218 sold', 'https://www.ebay.ie/itm/172038186399?hash=item280e46659f:g:5k4AAOSwo5Bg9~3g']\n",
            "['USB 3.1 USB-C Type C Male to USB A 3.0 Female Converter Adapter for Mac. 0123EUR 4.75Free postage556 sold', 'https://www.ebay.ie/itm/292500263062?hash=item441a5fd096:g:VNUAAOSwIAxfe2zN']\n",
            "['GOLD USB 2.0 24AWG EXTENSION Cable A Plug to Socket Lead 50cm/1m/2m/3m/5mEUR 1.79 to EUR 4.18(EUR 3.11/Unit)EUR 0.71 postage7,086 sold', 'https://www.ebay.ie/itm/192800929629?hash=item2ce3d4b75d:g:i8UAAOSwOTZhmPMN&var=492942054484']\n",
            "['Kaspersky Total Security 1 Device 1 Years - Multi Device 2021 For PC & MacEUR 18.00Free postageOnly 2 left', 'https://www.ebay.ie/itm/403279235935?hash=item5de550cb5f:g:K78AAOSwj2lhiEZN']\n",
            "['4K Display Port DP Male To HDMI Female Adapter Converter Adaptor For HDTVEUR 4.19Free postage251 sold', 'https://www.ebay.ie/itm/124335183743?hash=item1cf2f4577f:g:VrsAAOSwZdJhFjTK']\n",
            "['Kaspersky Internet Security 2021 1 Device 1 Year PC Mac Android Email Key EU UKEUR 12.94Free postage', 'https://www.ebay.ie/itm/383744813220?hash=item5958f928a4:g:LvkAAOSwGlJdTE5T']\n",
            "['Network Cable RJ45 Cat5e Ethernet Shielded METAL Plug 0.5m/1m/2m/3m to 20m lotEUR 1.79 to EUR 8.47(EUR 3.29/Unit)EUR 0.95 postage52 sold', 'https://www.ebay.ie/itm/383978034196?hash=item5966dfd414:g:bLUAAOSwm6dhmR8n&var=652279954659']\n",
            "['Case For Apple iPad Tablet Shockproof Folio Flip Slim Leather Smart Cover StandEUR 7.48 to EUR 10.80Free postage', 'https://www.ebay.ie/itm/313733759228?hash=item490bfd40fc:g:SkoAAOSwrR9hf4RS&var=612512239724']\n",
            "['2in1 RJ45 Ethernet LAN Network Y-Splitter 2 Way Adapter 3Ports Coupler ConnectorEUR 3.99(EUR 3.99/Unit)Free postage150 sold', 'https://www.ebay.ie/itm/124454542285?hash=item1cfa119bcd:g:VS4AAOSwCyZfvB0D']\n",
            "['USB To SATA 7+15 Pin 22 Pin Adapter Cable 2.5\" inch HDD Hard Disk Drive. 09EUR 5.70(EUR 5.70/Unit)Free postage880 sold', 'https://www.ebay.ie/itm/291855621881?hash=item43f3f35ef9:g:bu8AAOSwhaBawi-t']\n",
            "['Smart Memory Card Reader USB Multi Card Adapter SD SDHC MMC TF MicroSD. 084EUR 4.95Free postage519 sold', 'https://www.ebay.ie/itm/292538322114?hash=item441ca48cc2:g:bF0AAOSw8NNehk0N']\n",
            "['McAfee Internet Security Antivirus 2021/2022, 3 Devices, 1 YR- 5 Min by EmailEUR 7.81Free postage4,940 sold', 'https://www.ebay.ie/itm/293789558554?hash=item446738e71a:g:V-EAAOSwtH9gweg4']\n",
            "['3x RJ45 Ethernet Network LAN Cat5e Cat6 Cable Joiner Adapter Coupler ExtenderEUR 3.49(EUR 1.16/Unit)Free postage107 sold', 'https://www.ebay.ie/itm/124454550867?hash=item1cfa11bd53:g:1z0AAOSwEwdfvB7S']\n",
            "['Black 6FT 1.8M Displayport DP Male To DVI-D Male Adapter Cable Core LeadEUR 8.59Free postage405 sold', 'https://www.ebay.ie/itm/192124490157?hash=item2cbb8311ad:g:0oIAAOSwol5YwGz5']\n",
            "['Battery A1405 for Apple MacBook Air 13\" A1369 A1466 Mid-2011 year 020-6955-01 EUR 55.99Free postage80 sold', 'https://www.ebay.ie/itm/132906748772?hash=item1ef1dc0b64:g:-8QAAOSwO6NcLT9P']\n",
            "['Norton Antivirus 360 Standard 1, Deluxe 3, 5 Premium 10 Devices - 5 Min by EmailEUR 9.62 to EUR 24.06(EUR 15.03/Unit)Free postage102 sold', 'https://www.ebay.ie/itm/294054631647?hash=item44770598df:g:sUUAAOSwnNFgmRRo&var=592790396368']\n"
          ]
        }
      ]
    },
    {
      "cell_type": "markdown",
      "metadata": {
        "id": "89b26b83-b3ae-48f7-8781-d57448abc1e1"
      },
      "source": [
        "## Step 3 — Extracting Data from a Page\n",
        "\n",
        "Let’s give it some data to extract.<br>"
      ],
      "id": "89b26b83-b3ae-48f7-8781-d57448abc1e1"
    },
    {
      "cell_type": "markdown",
      "metadata": {
        "id": "36887ac7-97c6-4281-84b4-97600646dbcd"
      },
      "source": [
        "Let's extract information for each product:<br>\n",
        " -  Title\n",
        " -  Link\n",
        " -  Theme\n",
        " -  Subtheme\n",
        " -  Pieces\n",
        " -  Packaging\n",
        " -  Price\n",
        " -  Set Type\n",
        " "
      ],
      "id": "36887ac7-97c6-4281-84b4-97600646dbcd"
    },
    {
      "cell_type": "code",
      "metadata": {
        "id": "722b34ff-b3e1-496e-a400-0cdbea1c6a5e",
        "colab": {
          "base_uri": "https://localhost:8080/"
        },
        "outputId": "f73448e9-438d-4c50-ad97-1f3c619b2b71"
      },
      "source": [
        "# Write you code here to extract information\n",
        "  \n",
        "for divbox in soup.find_all(\"ul\", {\"class\":\"b-list__items_nofooter srp-results srp-grid\"}):\n",
        "    for libox in divbox.find_all(\"li\"):\n",
        "      title = libox.get_text().strip()\n",
        "      try:\n",
        "        href =  libox.find(\"a\").get(\"href\")\n",
        "        #print(title, \" => \", href)\n",
        "        lst_productlinks.append([title, href])\n",
        "      except:\n",
        "        pass\n",
        "    \n",
        "    oneproduct = {} \n",
        "    oneproduct[\"Title\"] = divbox.find(\"h3\").get_text()\n",
        "    oneproduct[\"Link\"] = href\n",
        "    oneproduct[\"Price\"] = divbox.find(\"li\",{\"class\":\"s-item s-item--large s-item--bgcolored\"}).find(\"div\",{\"class\":\"s-item__wrapper clearfix\"}).find(\"div\",{\"class\":\"s-item__info clearfix\"}).find(\"div\",{\"class\":\"s-item__details clearfix\" }).find(\"div\",{\"class\":\"s-item__detail s-item__detail--primary\"}).find(\"span\",{\"class\":\"s-item__price\"}).get_text()\n",
        "    oneproduct[\"Postage\"] = divbox.find(\"li\",{\"class\":\"s-item s-item--large s-item--bgcolored\"}).find(\"div\",{\"class\":\"s-item__wrapper clearfix\"}).find(\"div\",{\"class\":\"s-item__info clearfix\"}).find(\"div\",{\"class\":\"s-item__details clearfix\" }).find_all(\"div\",{\"class\":\"s-item__detail s-item__detail--primary\"})[1].get_text()\n",
        "    \n",
        "    import pprint\n",
        "    pprint.pprint(oneproduct)\n",
        "\n",
        "    #Try Get the rest yourself :)"
      ],
      "id": "722b34ff-b3e1-496e-a400-0cdbea1c6a5e",
      "execution_count": 6,
      "outputs": [
        {
          "output_type": "stream",
          "name": "stdout",
          "text": [
            "{'Link': 'https://www.ebay.ie/itm/294054631647?hash=item44770598df:g:sUUAAOSwnNFgmRRo&var=592790396368',\n",
            " 'Postage': 'Free postage',\n",
            " 'Price': 'EUR 3.84',\n",
            " 'Title': 'ESET NOD32 Antivirus 1 Device 1 Year ESD Key'}\n"
          ]
        }
      ]
    },
    {
      "cell_type": "code",
      "metadata": {
        "id": "ofuw4bBhBE_e"
      },
      "source": [
        ""
      ],
      "id": "ofuw4bBhBE_e",
      "execution_count": null,
      "outputs": []
    }
  ]
}